{
 "cells": [
  {
   "cell_type": "code",
   "execution_count": 1,
   "metadata": {},
   "outputs": [],
   "source": [
    "import networkx as nx\n",
    "import matplotlib.pyplot as plt\n",
    "import matplotlib.colors as mcolors\n",
    "from dataset import Dataset\n",
    "# for Notebook\n",
    "%matplotlib inline\n",
    "%load_ext autoreload\n",
    "%autoreload 2"
   ]
  },
  {
   "cell_type": "markdown",
   "metadata": {},
   "source": [
    "# Dataset Creation\n",
    "Import data into a pandas dataframe using the created class Dataset"
   ]
  },
  {
   "cell_type": "code",
   "execution_count": 2,
   "metadata": {},
   "outputs": [
    {
     "name": "stderr",
     "output_type": "stream",
     "text": [
      "/home/wiz/Git/LFN-Project/dataset.py:34: DtypeWarning: Columns (14) have mixed types. Specify dtype option on import or set low_memory=False.\n",
      "  mob_df = pd.read_csv(mobility_csv, sep=\";\")\n",
      "/home/wiz/Git/LFN-Project/dataset.py:34: DtypeWarning: Columns (14) have mixed types. Specify dtype option on import or set low_memory=False.\n",
      "  mob_df = pd.read_csv(mobility_csv, sep=\";\")\n",
      "/home/wiz/Git/LFN-Project/dataset.py:34: DtypeWarning: Columns (14) have mixed types. Specify dtype option on import or set low_memory=False.\n",
      "  mob_df = pd.read_csv(mobility_csv, sep=\";\")\n",
      "/home/wiz/Git/LFN-Project/dataset.py:34: DtypeWarning: Columns (14) have mixed types. Specify dtype option on import or set low_memory=False.\n",
      "  mob_df = pd.read_csv(mobility_csv, sep=\";\")\n"
     ]
    }
   ],
   "source": [
    "ds = Dataset()\n",
    "files = os.listdir(ds.base_path+\"/data/\")\n",
    "ds.createDataset(files)"
   ]
  },
  {
   "cell_type": "markdown",
   "metadata": {},
   "source": [
    "Show created dataframe"
   ]
  },
  {
   "cell_type": "code",
   "execution_count": 3,
   "metadata": {},
   "outputs": [
    {
     "data": {
      "text/plain": [
       "Index(['Project Reference', 'Academic Year', 'Mobility Start Month',\n",
       "       'Mobility End Month', 'Mobility Duration', 'Activity (mob)',\n",
       "       'Field of Education', 'Participant Nationality', 'Education Level',\n",
       "       'Participant Gender', 'Participant Profile', 'Special Needs',\n",
       "       'Fewer Opportunities', 'GroupLeader', 'Participant Age',\n",
       "       'Sending Country Code', 'Sending City', 'Sending Organization',\n",
       "       'Sending Organisation Erasmus Code', 'Receiving Country Code',\n",
       "       'Receiving City', 'Receiving Organization',\n",
       "       'Receiving Organisation Erasmus Code', 'Participants'],\n",
       "      dtype='object')"
      ]
     },
     "execution_count": 3,
     "metadata": {},
     "output_type": "execute_result"
    }
   ],
   "source": [
    "ds.df.columns"
   ]
  },
  {
   "cell_type": "markdown",
   "metadata": {},
   "source": [
    "Now we apply the cleanup pre-processing onto the dataframe, in which we also filter the columns we need"
   ]
  },
  {
   "cell_type": "code",
   "execution_count": 9,
   "metadata": {},
   "outputs": [
    {
     "name": "stdout",
     "output_type": "stream",
     "text": [
      "Restored 0 columns\n",
      "Removed 1 columns\n",
      "Removed 0 rows\n"
     ]
    }
   ],
   "source": [
    "# Select only needed for the analysis \n",
    "ds.applyPreprocessing(columns=[\"Mobility Duration\", \"Sending Country Code\", \"Receiving Country Code\",\n",
    "                               \"Special Needs\", \"Fewer Opportunities\", \"Participant Profile\",\n",
    "                               \"Sending Organization\", \"Receiving Organization\", \"Receiving Organisation Erasmus Code\",\n",
    "                               \"GroupLeader\", \"Sending Organisation Erasmus Code\", \"Education Level\"])\n",
    "\n",
    "# Remove all NaN values\n",
    "ds.cleanDataframe()"
   ]
  },
  {
   "cell_type": "code",
   "execution_count": 33,
   "metadata": {},
   "outputs": [
    {
     "data": {
      "text/html": [
       "<div>\n",
       "<style scoped>\n",
       "    .dataframe tbody tr th:only-of-type {\n",
       "        vertical-align: middle;\n",
       "    }\n",
       "\n",
       "    .dataframe tbody tr th {\n",
       "        vertical-align: top;\n",
       "    }\n",
       "\n",
       "    .dataframe thead th {\n",
       "        text-align: right;\n",
       "    }\n",
       "</style>\n",
       "<table border=\"1\" class=\"dataframe\">\n",
       "  <thead>\n",
       "    <tr style=\"text-align: right;\">\n",
       "      <th></th>\n",
       "      <th>Mobility Duration</th>\n",
       "      <th>Sending Country Code</th>\n",
       "      <th>Receiving Country Code</th>\n",
       "      <th>Special Needs</th>\n",
       "      <th>Fewer Opportunities</th>\n",
       "      <th>Participant Profile</th>\n",
       "      <th>Sending Organization</th>\n",
       "      <th>Receiving Organization</th>\n",
       "      <th>Receiving Organisation Erasmus Code</th>\n",
       "      <th>GroupLeader</th>\n",
       "      <th>Sending Organisation Erasmus Code</th>\n",
       "      <th>Education Level</th>\n",
       "    </tr>\n",
       "  </thead>\n",
       "  <tbody>\n",
       "    <tr>\n",
       "      <th>0</th>\n",
       "      <td>1.0</td>\n",
       "      <td>AT</td>\n",
       "      <td>AT</td>\n",
       "      <td>No</td>\n",
       "      <td>Yes</td>\n",
       "      <td>Learner</td>\n",
       "      <td>bOJA - Bundesweites Netzwerk Offene Jugendarbeit</td>\n",
       "      <td>bOJA - Bundesweites Netzwerk Offene Jugendarbeit</td>\n",
       "      <td>-</td>\n",
       "      <td>No</td>\n",
       "      <td>-</td>\n",
       "      <td>??? - ? Unknown ?</td>\n",
       "    </tr>\n",
       "    <tr>\n",
       "      <th>1</th>\n",
       "      <td>1.0</td>\n",
       "      <td>AT</td>\n",
       "      <td>AT</td>\n",
       "      <td>No</td>\n",
       "      <td>Yes</td>\n",
       "      <td>Learner</td>\n",
       "      <td>bOJA - Bundesweites Netzwerk Offene Jugendarbeit</td>\n",
       "      <td>bOJA - Bundesweites Netzwerk Offene Jugendarbeit</td>\n",
       "      <td>-</td>\n",
       "      <td>No</td>\n",
       "      <td>-</td>\n",
       "      <td>??? - ? Unknown ?</td>\n",
       "    </tr>\n",
       "    <tr>\n",
       "      <th>2</th>\n",
       "      <td>1.0</td>\n",
       "      <td>AT</td>\n",
       "      <td>AT</td>\n",
       "      <td>No</td>\n",
       "      <td>Yes</td>\n",
       "      <td>Learner</td>\n",
       "      <td>bOJA - Bundesweites Netzwerk Offene Jugendarbeit</td>\n",
       "      <td>bOJA - Bundesweites Netzwerk Offene Jugendarbeit</td>\n",
       "      <td>-</td>\n",
       "      <td>No</td>\n",
       "      <td>-</td>\n",
       "      <td>??? - ? Unknown ?</td>\n",
       "    </tr>\n",
       "    <tr>\n",
       "      <th>3</th>\n",
       "      <td>1.0</td>\n",
       "      <td>AT</td>\n",
       "      <td>AT</td>\n",
       "      <td>No</td>\n",
       "      <td>Yes</td>\n",
       "      <td>Learner</td>\n",
       "      <td>bOJA - Bundesweites Netzwerk Offene Jugendarbeit</td>\n",
       "      <td>bOJA - Bundesweites Netzwerk Offene Jugendarbeit</td>\n",
       "      <td>-</td>\n",
       "      <td>No</td>\n",
       "      <td>-</td>\n",
       "      <td>??? - ? Unknown ?</td>\n",
       "    </tr>\n",
       "    <tr>\n",
       "      <th>4</th>\n",
       "      <td>1.0</td>\n",
       "      <td>AT</td>\n",
       "      <td>AT</td>\n",
       "      <td>No</td>\n",
       "      <td>Yes</td>\n",
       "      <td>Learner</td>\n",
       "      <td>bOJA - Bundesweites Netzwerk Offene Jugendarbeit</td>\n",
       "      <td>bOJA - Bundesweites Netzwerk Offene Jugendarbeit</td>\n",
       "      <td>-</td>\n",
       "      <td>No</td>\n",
       "      <td>-</td>\n",
       "      <td>??? - ? Unknown ?</td>\n",
       "    </tr>\n",
       "    <tr>\n",
       "      <th>...</th>\n",
       "      <td>...</td>\n",
       "      <td>...</td>\n",
       "      <td>...</td>\n",
       "      <td>...</td>\n",
       "      <td>...</td>\n",
       "      <td>...</td>\n",
       "      <td>...</td>\n",
       "      <td>...</td>\n",
       "      <td>...</td>\n",
       "      <td>...</td>\n",
       "      <td>...</td>\n",
       "      <td>...</td>\n",
       "    </tr>\n",
       "    <tr>\n",
       "      <th>736429</th>\n",
       "      <td>7.0</td>\n",
       "      <td>UK</td>\n",
       "      <td>UK</td>\n",
       "      <td>No</td>\n",
       "      <td>Yes</td>\n",
       "      <td>Staff</td>\n",
       "      <td>YOUTH INNOVATION LTD</td>\n",
       "      <td>YOUTH INNOVATION LTD</td>\n",
       "      <td>-</td>\n",
       "      <td>Yes</td>\n",
       "      <td>-</td>\n",
       "      <td>??? - ? Unknown ?</td>\n",
       "    </tr>\n",
       "    <tr>\n",
       "      <th>736430</th>\n",
       "      <td>7.0</td>\n",
       "      <td>UK</td>\n",
       "      <td>UK</td>\n",
       "      <td>No</td>\n",
       "      <td>Yes</td>\n",
       "      <td>Staff</td>\n",
       "      <td>YOUTH INNOVATION LTD</td>\n",
       "      <td>YOUTH INNOVATION LTD</td>\n",
       "      <td>-</td>\n",
       "      <td>Yes</td>\n",
       "      <td>-</td>\n",
       "      <td>??? - ? Unknown ?</td>\n",
       "    </tr>\n",
       "    <tr>\n",
       "      <th>736431</th>\n",
       "      <td>7.0</td>\n",
       "      <td>UK</td>\n",
       "      <td>UK</td>\n",
       "      <td>No</td>\n",
       "      <td>Yes</td>\n",
       "      <td>Staff</td>\n",
       "      <td>YOUTH INNOVATION LTD</td>\n",
       "      <td>YOUTH INNOVATION LTD</td>\n",
       "      <td>-</td>\n",
       "      <td>No</td>\n",
       "      <td>-</td>\n",
       "      <td>??? - ? Unknown ?</td>\n",
       "    </tr>\n",
       "    <tr>\n",
       "      <th>736432</th>\n",
       "      <td>7.0</td>\n",
       "      <td>UK</td>\n",
       "      <td>UK</td>\n",
       "      <td>No</td>\n",
       "      <td>No</td>\n",
       "      <td>Staff</td>\n",
       "      <td>YOUTH INNOVATION LTD</td>\n",
       "      <td>YOUTH INNOVATION LTD</td>\n",
       "      <td>-</td>\n",
       "      <td>No</td>\n",
       "      <td>-</td>\n",
       "      <td>??? - ? Unknown ?</td>\n",
       "    </tr>\n",
       "    <tr>\n",
       "      <th>736433</th>\n",
       "      <td>7.0</td>\n",
       "      <td>UK</td>\n",
       "      <td>UK</td>\n",
       "      <td>No</td>\n",
       "      <td>Yes</td>\n",
       "      <td>Staff</td>\n",
       "      <td>YOUTH INNOVATION LTD</td>\n",
       "      <td>YOUTH INNOVATION LTD</td>\n",
       "      <td>-</td>\n",
       "      <td>No</td>\n",
       "      <td>-</td>\n",
       "      <td>??? - ? Unknown ?</td>\n",
       "    </tr>\n",
       "  </tbody>\n",
       "</table>\n",
       "<p>2837699 rows × 12 columns</p>\n",
       "</div>"
      ],
      "text/plain": [
       "        Mobility Duration Sending Country Code Receiving Country Code  \\\n",
       "0                     1.0                   AT                     AT   \n",
       "1                     1.0                   AT                     AT   \n",
       "2                     1.0                   AT                     AT   \n",
       "3                     1.0                   AT                     AT   \n",
       "4                     1.0                   AT                     AT   \n",
       "...                   ...                  ...                    ...   \n",
       "736429                7.0                   UK                     UK   \n",
       "736430                7.0                   UK                     UK   \n",
       "736431                7.0                   UK                     UK   \n",
       "736432                7.0                   UK                     UK   \n",
       "736433                7.0                   UK                     UK   \n",
       "\n",
       "       Special Needs Fewer Opportunities Participant Profile  \\\n",
       "0                 No                 Yes             Learner   \n",
       "1                 No                 Yes             Learner   \n",
       "2                 No                 Yes             Learner   \n",
       "3                 No                 Yes             Learner   \n",
       "4                 No                 Yes             Learner   \n",
       "...              ...                 ...                 ...   \n",
       "736429            No                 Yes               Staff   \n",
       "736430            No                 Yes               Staff   \n",
       "736431            No                 Yes               Staff   \n",
       "736432            No                  No               Staff   \n",
       "736433            No                 Yes               Staff   \n",
       "\n",
       "                                    Sending Organization  \\\n",
       "0       bOJA - Bundesweites Netzwerk Offene Jugendarbeit   \n",
       "1       bOJA - Bundesweites Netzwerk Offene Jugendarbeit   \n",
       "2       bOJA - Bundesweites Netzwerk Offene Jugendarbeit   \n",
       "3       bOJA - Bundesweites Netzwerk Offene Jugendarbeit   \n",
       "4       bOJA - Bundesweites Netzwerk Offene Jugendarbeit   \n",
       "...                                                  ...   \n",
       "736429                              YOUTH INNOVATION LTD   \n",
       "736430                              YOUTH INNOVATION LTD   \n",
       "736431                              YOUTH INNOVATION LTD   \n",
       "736432                              YOUTH INNOVATION LTD   \n",
       "736433                              YOUTH INNOVATION LTD   \n",
       "\n",
       "                                  Receiving Organization  \\\n",
       "0       bOJA - Bundesweites Netzwerk Offene Jugendarbeit   \n",
       "1       bOJA - Bundesweites Netzwerk Offene Jugendarbeit   \n",
       "2       bOJA - Bundesweites Netzwerk Offene Jugendarbeit   \n",
       "3       bOJA - Bundesweites Netzwerk Offene Jugendarbeit   \n",
       "4       bOJA - Bundesweites Netzwerk Offene Jugendarbeit   \n",
       "...                                                  ...   \n",
       "736429                              YOUTH INNOVATION LTD   \n",
       "736430                              YOUTH INNOVATION LTD   \n",
       "736431                              YOUTH INNOVATION LTD   \n",
       "736432                              YOUTH INNOVATION LTD   \n",
       "736433                              YOUTH INNOVATION LTD   \n",
       "\n",
       "       Receiving Organisation Erasmus Code GroupLeader  \\\n",
       "0                                        -          No   \n",
       "1                                        -          No   \n",
       "2                                        -          No   \n",
       "3                                        -          No   \n",
       "4                                        -          No   \n",
       "...                                    ...         ...   \n",
       "736429                                   -         Yes   \n",
       "736430                                   -         Yes   \n",
       "736431                                   -          No   \n",
       "736432                                   -          No   \n",
       "736433                                   -          No   \n",
       "\n",
       "       Sending Organisation Erasmus Code    Education Level  \n",
       "0                                      -  ??? - ? Unknown ?  \n",
       "1                                      -  ??? - ? Unknown ?  \n",
       "2                                      -  ??? - ? Unknown ?  \n",
       "3                                      -  ??? - ? Unknown ?  \n",
       "4                                      -  ??? - ? Unknown ?  \n",
       "...                                  ...                ...  \n",
       "736429                                 -  ??? - ? Unknown ?  \n",
       "736430                                 -  ??? - ? Unknown ?  \n",
       "736431                                 -  ??? - ? Unknown ?  \n",
       "736432                                 -  ??? - ? Unknown ?  \n",
       "736433                                 -  ??? - ? Unknown ?  \n",
       "\n",
       "[2837699 rows x 12 columns]"
      ]
     },
     "execution_count": 33,
     "metadata": {},
     "output_type": "execute_result"
    }
   ],
   "source": [
    "ds.df"
   ]
  },
  {
   "attachments": {},
   "cell_type": "markdown",
   "metadata": {},
   "source": [
    "Filter Data"
   ]
  },
  {
   "cell_type": "code",
   "execution_count": 6,
   "metadata": {},
   "outputs": [
    {
     "ename": "KeyError",
     "evalue": "'Education Level'",
     "output_type": "error",
     "traceback": [
      "\u001b[0;31m---------------------------------------------------------------------------\u001b[0m",
      "\u001b[0;31mKeyError\u001b[0m                                  Traceback (most recent call last)",
      "File \u001b[0;32m~/.local/lib/python3.10/site-packages/pandas/core/indexes/base.py:3803\u001b[0m, in \u001b[0;36mIndex.get_loc\u001b[0;34m(self, key, method, tolerance)\u001b[0m\n\u001b[1;32m   3802\u001b[0m \u001b[39mtry\u001b[39;00m:\n\u001b[0;32m-> 3803\u001b[0m     \u001b[39mreturn\u001b[39;00m \u001b[39mself\u001b[39;49m\u001b[39m.\u001b[39;49m_engine\u001b[39m.\u001b[39;49mget_loc(casted_key)\n\u001b[1;32m   3804\u001b[0m \u001b[39mexcept\u001b[39;00m \u001b[39mKeyError\u001b[39;00m \u001b[39mas\u001b[39;00m err:\n",
      "File \u001b[0;32m~/.local/lib/python3.10/site-packages/pandas/_libs/index.pyx:138\u001b[0m, in \u001b[0;36mpandas._libs.index.IndexEngine.get_loc\u001b[0;34m()\u001b[0m\n",
      "File \u001b[0;32m~/.local/lib/python3.10/site-packages/pandas/_libs/index.pyx:165\u001b[0m, in \u001b[0;36mpandas._libs.index.IndexEngine.get_loc\u001b[0;34m()\u001b[0m\n",
      "File \u001b[0;32mpandas/_libs/hashtable_class_helper.pxi:5745\u001b[0m, in \u001b[0;36mpandas._libs.hashtable.PyObjectHashTable.get_item\u001b[0;34m()\u001b[0m\n",
      "File \u001b[0;32mpandas/_libs/hashtable_class_helper.pxi:5753\u001b[0m, in \u001b[0;36mpandas._libs.hashtable.PyObjectHashTable.get_item\u001b[0;34m()\u001b[0m\n",
      "\u001b[0;31mKeyError\u001b[0m: 'Education Level'",
      "\nThe above exception was the direct cause of the following exception:\n",
      "\u001b[0;31mKeyError\u001b[0m                                  Traceback (most recent call last)",
      "Cell \u001b[0;32mIn[6], line 4\u001b[0m\n\u001b[1;32m      2\u001b[0m ds\u001b[39m.\u001b[39mapplyFilter(column\u001b[39m=\u001b[39m\u001b[39m\"\u001b[39m\u001b[39mSending Country Code\u001b[39m\u001b[39m\"\u001b[39m, value\u001b[39m=\u001b[39m\u001b[39m\"\u001b[39m\u001b[39mIT\u001b[39m\u001b[39m\"\u001b[39m)\n\u001b[1;32m      3\u001b[0m \u001b[39m# Select only students currently under bachelor degree\u001b[39;00m\n\u001b[0;32m----> 4\u001b[0m ds\u001b[39m.\u001b[39;49mapplyFilter(column\u001b[39m=\u001b[39;49m\u001b[39m\"\u001b[39;49m\u001b[39mEducation Level\u001b[39;49m\u001b[39m\"\u001b[39;49m, value\u001b[39m=\u001b[39;49m\u001b[39m\"\u001b[39;49m\u001b[39mISCED-7\u001b[39;49m\u001b[39m\"\u001b[39;49m, criterion\u001b[39m=\u001b[39;49m\u001b[39m'\u001b[39;49m\u001b[39mcontains\u001b[39;49m\u001b[39m'\u001b[39;49m)\n",
      "File \u001b[0;32m~/Git/LFN-Project/dataset.py:79\u001b[0m, in \u001b[0;36mDataset.applyFilter\u001b[0;34m(self, column, value, maxrows, criterion)\u001b[0m\n\u001b[1;32m     77\u001b[0m     \u001b[39mself\u001b[39m\u001b[39m.\u001b[39mdf \u001b[39m=\u001b[39m \u001b[39mself\u001b[39m\u001b[39m.\u001b[39mdf[\u001b[39mself\u001b[39m\u001b[39m.\u001b[39mdf[column] \u001b[39m==\u001b[39m value]\n\u001b[1;32m     78\u001b[0m \u001b[39melif\u001b[39;00m criterion \u001b[39m==\u001b[39m \u001b[39m'\u001b[39m\u001b[39mcontains\u001b[39m\u001b[39m'\u001b[39m:\n\u001b[0;32m---> 79\u001b[0m     \u001b[39mself\u001b[39m\u001b[39m.\u001b[39mdf \u001b[39m=\u001b[39m \u001b[39mself\u001b[39m\u001b[39m.\u001b[39mdf[\u001b[39mself\u001b[39;49m\u001b[39m.\u001b[39;49mdf[column]\u001b[39m.\u001b[39mstr\u001b[39m.\u001b[39mcontains(value)]\n",
      "File \u001b[0;32m~/.local/lib/python3.10/site-packages/pandas/core/frame.py:3805\u001b[0m, in \u001b[0;36mDataFrame.__getitem__\u001b[0;34m(self, key)\u001b[0m\n\u001b[1;32m   3803\u001b[0m \u001b[39mif\u001b[39;00m \u001b[39mself\u001b[39m\u001b[39m.\u001b[39mcolumns\u001b[39m.\u001b[39mnlevels \u001b[39m>\u001b[39m \u001b[39m1\u001b[39m:\n\u001b[1;32m   3804\u001b[0m     \u001b[39mreturn\u001b[39;00m \u001b[39mself\u001b[39m\u001b[39m.\u001b[39m_getitem_multilevel(key)\n\u001b[0;32m-> 3805\u001b[0m indexer \u001b[39m=\u001b[39m \u001b[39mself\u001b[39;49m\u001b[39m.\u001b[39;49mcolumns\u001b[39m.\u001b[39;49mget_loc(key)\n\u001b[1;32m   3806\u001b[0m \u001b[39mif\u001b[39;00m is_integer(indexer):\n\u001b[1;32m   3807\u001b[0m     indexer \u001b[39m=\u001b[39m [indexer]\n",
      "File \u001b[0;32m~/.local/lib/python3.10/site-packages/pandas/core/indexes/base.py:3805\u001b[0m, in \u001b[0;36mIndex.get_loc\u001b[0;34m(self, key, method, tolerance)\u001b[0m\n\u001b[1;32m   3803\u001b[0m     \u001b[39mreturn\u001b[39;00m \u001b[39mself\u001b[39m\u001b[39m.\u001b[39m_engine\u001b[39m.\u001b[39mget_loc(casted_key)\n\u001b[1;32m   3804\u001b[0m \u001b[39mexcept\u001b[39;00m \u001b[39mKeyError\u001b[39;00m \u001b[39mas\u001b[39;00m err:\n\u001b[0;32m-> 3805\u001b[0m     \u001b[39mraise\u001b[39;00m \u001b[39mKeyError\u001b[39;00m(key) \u001b[39mfrom\u001b[39;00m \u001b[39merr\u001b[39;00m\n\u001b[1;32m   3806\u001b[0m \u001b[39mexcept\u001b[39;00m \u001b[39mTypeError\u001b[39;00m:\n\u001b[1;32m   3807\u001b[0m     \u001b[39m# If we have a listlike key, _check_indexing_error will raise\u001b[39;00m\n\u001b[1;32m   3808\u001b[0m     \u001b[39m#  InvalidIndexError. Otherwise we fall through and re-raise\u001b[39;00m\n\u001b[1;32m   3809\u001b[0m     \u001b[39m#  the TypeError.\u001b[39;00m\n\u001b[1;32m   3810\u001b[0m     \u001b[39mself\u001b[39m\u001b[39m.\u001b[39m_check_indexing_error(key)\n",
      "\u001b[0;31mKeyError\u001b[0m: 'Education Level'"
     ]
    }
   ],
   "source": [
    "# Select only the eramus students researchers from Italy\n",
    "ds.applyFilter(column=\"Sending Country Code\", value=\"IT\")\n",
    "# Select only students currently under bachelor degree\n",
    "ds.applyFilter(column=\"Education Level\", value=\"ISCED-7\", criterion='contains')"
   ]
  },
  {
   "cell_type": "markdown",
   "metadata": {},
   "source": [
    "The resulting dataframe becomes "
   ]
  },
  {
   "cell_type": "code",
   "execution_count": 5,
   "metadata": {},
   "outputs": [
    {
     "data": {
      "text/html": [
       "<div>\n",
       "<style scoped>\n",
       "    .dataframe tbody tr th:only-of-type {\n",
       "        vertical-align: middle;\n",
       "    }\n",
       "\n",
       "    .dataframe tbody tr th {\n",
       "        vertical-align: top;\n",
       "    }\n",
       "\n",
       "    .dataframe thead th {\n",
       "        text-align: right;\n",
       "    }\n",
       "</style>\n",
       "<table border=\"1\" class=\"dataframe\">\n",
       "  <thead>\n",
       "    <tr style=\"text-align: right;\">\n",
       "      <th></th>\n",
       "      <th>Sending Organization</th>\n",
       "      <th>Receiving Organization</th>\n",
       "      <th>Participants</th>\n",
       "      <th>Sending Country Code</th>\n",
       "      <th>Receiving Country Code</th>\n",
       "    </tr>\n",
       "  </thead>\n",
       "  <tbody>\n",
       "    <tr>\n",
       "      <th>1701</th>\n",
       "      <td>PRIVATE PÄDAGOGISCHE HOCHSCHULE - HOCHSCHULSTI...</td>\n",
       "      <td>ABO AKADEMI</td>\n",
       "      <td>1</td>\n",
       "      <td>AT</td>\n",
       "      <td>FI</td>\n",
       "    </tr>\n",
       "    <tr>\n",
       "      <th>1702</th>\n",
       "      <td>PRIVATE PÄDAGOGISCHE HOCHSCHULE - HOCHSCHULSTI...</td>\n",
       "      <td>MALMOE HOEGSKOLA (MALMOE UNIVERSITY)</td>\n",
       "      <td>2</td>\n",
       "      <td>AT</td>\n",
       "      <td>SE</td>\n",
       "    </tr>\n",
       "    <tr>\n",
       "      <th>1733</th>\n",
       "      <td>IMC FACHHOCHSCHULE KREMS GMBH</td>\n",
       "      <td>HASKOLINN A BIFROST</td>\n",
       "      <td>1</td>\n",
       "      <td>AT</td>\n",
       "      <td>IS</td>\n",
       "    </tr>\n",
       "    <tr>\n",
       "      <th>1734</th>\n",
       "      <td>IMC FACHHOCHSCHULE KREMS GMBH</td>\n",
       "      <td>LAUREA-AMMATTIKORKEAKOULU OY</td>\n",
       "      <td>1</td>\n",
       "      <td>AT</td>\n",
       "      <td>FI</td>\n",
       "    </tr>\n",
       "    <tr>\n",
       "      <th>1735</th>\n",
       "      <td>IMC FACHHOCHSCHULE KREMS GMBH</td>\n",
       "      <td>METROPOLIA AMMATTIKORKEAKOULU OY</td>\n",
       "      <td>1</td>\n",
       "      <td>AT</td>\n",
       "      <td>FI</td>\n",
       "    </tr>\n",
       "    <tr>\n",
       "      <th>...</th>\n",
       "      <td>...</td>\n",
       "      <td>...</td>\n",
       "      <td>...</td>\n",
       "      <td>...</td>\n",
       "      <td>...</td>\n",
       "    </tr>\n",
       "    <tr>\n",
       "      <th>716937</th>\n",
       "      <td>UNIVERSITY COLLEGE LONDON</td>\n",
       "      <td>FEDERAL STATE AUTONOMOUS EDUCATIONAL INSTITUTI...</td>\n",
       "      <td>1</td>\n",
       "      <td>UK</td>\n",
       "      <td>RU</td>\n",
       "    </tr>\n",
       "    <tr>\n",
       "      <th>716938</th>\n",
       "      <td>HEBRON UNIVERSITY</td>\n",
       "      <td>UNIVERSITY OF BRADFORD</td>\n",
       "      <td>1</td>\n",
       "      <td>PS</td>\n",
       "      <td>UK</td>\n",
       "    </tr>\n",
       "    <tr>\n",
       "      <th>716939</th>\n",
       "      <td>HEBRON UNIVERSITY</td>\n",
       "      <td>UNIVERSITY OF BRADFORD</td>\n",
       "      <td>1</td>\n",
       "      <td>PS</td>\n",
       "      <td>UK</td>\n",
       "    </tr>\n",
       "    <tr>\n",
       "      <th>716940</th>\n",
       "      <td>HEBRON UNIVERSITY</td>\n",
       "      <td>UNIVERSITY OF BRADFORD</td>\n",
       "      <td>3</td>\n",
       "      <td>PS</td>\n",
       "      <td>UK</td>\n",
       "    </tr>\n",
       "    <tr>\n",
       "      <th>716984</th>\n",
       "      <td>ECOLE NATIONALE POLYTECHNIQUE ALGER</td>\n",
       "      <td>UNIVERSITY OF THE WEST OF SCOTLAND</td>\n",
       "      <td>1</td>\n",
       "      <td>DZ</td>\n",
       "      <td>UK</td>\n",
       "    </tr>\n",
       "  </tbody>\n",
       "</table>\n",
       "<p>1265777 rows × 5 columns</p>\n",
       "</div>"
      ],
      "text/plain": [
       "                                     Sending Organization  \\\n",
       "1701    PRIVATE PÄDAGOGISCHE HOCHSCHULE - HOCHSCHULSTI...   \n",
       "1702    PRIVATE PÄDAGOGISCHE HOCHSCHULE - HOCHSCHULSTI...   \n",
       "1733                        IMC FACHHOCHSCHULE KREMS GMBH   \n",
       "1734                        IMC FACHHOCHSCHULE KREMS GMBH   \n",
       "1735                        IMC FACHHOCHSCHULE KREMS GMBH   \n",
       "...                                                   ...   \n",
       "716937                          UNIVERSITY COLLEGE LONDON   \n",
       "716938                                  HEBRON UNIVERSITY   \n",
       "716939                                  HEBRON UNIVERSITY   \n",
       "716940                                  HEBRON UNIVERSITY   \n",
       "716984                ECOLE NATIONALE POLYTECHNIQUE ALGER   \n",
       "\n",
       "                                   Receiving Organization  Participants  \\\n",
       "1701                                          ABO AKADEMI             1   \n",
       "1702                 MALMOE HOEGSKOLA (MALMOE UNIVERSITY)             2   \n",
       "1733                                  HASKOLINN A BIFROST             1   \n",
       "1734                         LAUREA-AMMATTIKORKEAKOULU OY             1   \n",
       "1735                     METROPOLIA AMMATTIKORKEAKOULU OY             1   \n",
       "...                                                   ...           ...   \n",
       "716937  FEDERAL STATE AUTONOMOUS EDUCATIONAL INSTITUTI...             1   \n",
       "716938                             UNIVERSITY OF BRADFORD             1   \n",
       "716939                             UNIVERSITY OF BRADFORD             1   \n",
       "716940                             UNIVERSITY OF BRADFORD             3   \n",
       "716984                 UNIVERSITY OF THE WEST OF SCOTLAND             1   \n",
       "\n",
       "       Sending Country Code Receiving Country Code  \n",
       "1701                     AT                     FI  \n",
       "1702                     AT                     SE  \n",
       "1733                     AT                     IS  \n",
       "1734                     AT                     FI  \n",
       "1735                     AT                     FI  \n",
       "...                     ...                    ...  \n",
       "716937                   UK                     RU  \n",
       "716938                   PS                     UK  \n",
       "716939                   PS                     UK  \n",
       "716940                   PS                     UK  \n",
       "716984                   DZ                     UK  \n",
       "\n",
       "[1265777 rows x 5 columns]"
      ]
     },
     "execution_count": 5,
     "metadata": {},
     "output_type": "execute_result"
    }
   ],
   "source": [
    "ds.df"
   ]
  },
  {
   "cell_type": "markdown",
   "metadata": {},
   "source": [
    "# Graph creation\n",
    "We can now go ahead and create our graph, again using the Dataset class "
   ]
  },
  {
   "cell_type": "code",
   "execution_count": 6,
   "metadata": {},
   "outputs": [],
   "source": [
    "from graph import CustomGraph as Graph\n"
   ]
  },
  {
   "cell_type": "code",
   "execution_count": 35,
   "metadata": {},
   "outputs": [],
   "source": [
    "CountryGraph = Graph()\n",
    "# every node will correspond to a country\n",
    "CountryGraph.addCountryNodes(ds.getCountryNodes())\n",
    "\n",
    "UniNodes = Graph()\n",
    "# every node will correspond to a University\n",
    "UniNodes.addUniversityNodes(ds.getUniversitiesNodes())\n"
   ]
  },
  {
   "cell_type": "code",
   "execution_count": 12,
   "metadata": {},
   "outputs": [
    {
     "data": {
      "text/plain": [
       "153"
      ]
     },
     "execution_count": 12,
     "metadata": {},
     "output_type": "execute_result"
    }
   ],
   "source": [
    "ds.getUniversitiesNodes().size\n",
    "ds.getCountryNodes().size"
   ]
  },
  {
   "attachments": {},
   "cell_type": "markdown",
   "metadata": {},
   "source": [
    "Add the weighted edges"
   ]
  },
  {
   "cell_type": "code",
   "execution_count": 61,
   "metadata": {},
   "outputs": [],
   "source": [
    "import networkx as nx\n",
    "import pandas as pd\n",
    "edges = pd.DataFrame({\"source\" : ds.df[\"Sending Country Code\"],\n",
    "                      \"target\" : ds.df[\"Receiving Country Code\"],\n",
    "                      \"weight\" : ds.df[\"Participants\"]\n",
    "                         })\n",
    "CountryGraph = nx.from_pandas_edgelist(edges, \"source\", \"target\", \"weight\", nx.DiGraph())"
   ]
  },
  {
   "cell_type": "code",
   "execution_count": null,
   "metadata": {},
   "outputs": [],
   "source": [
    "# Code to visualize ten nodes of the graph with their edges\n",
    "#nodes = list(CountryGraph.nodes())\n",
    "#first_10_nodes = nodes[:10]\n",
    "#G = nx.subgraph(CountryGraph, first_10_nodes)\n",
    "#nx.draw_networkx_edges(G,pos=nx.spring_layout(CountryGraph))\n",
    "#nx.draw_networkx_edge_labels(G,pos=nx.spring_layout(CountryGraph))"
   ]
  },
  {
   "cell_type": "code",
   "execution_count": null,
   "metadata": {},
   "outputs": [],
   "source": [
    "# Code to visualize the graph with PYVIS tool\n",
    "#from pyvis.network import Network\n",
    "#net = Network(directed=True)\n",
    "#net.from_nx(CountryGraph)\n",
    "#net.show(\"example.html\")"
   ]
  },
  {
   "cell_type": "code",
   "execution_count": 37,
   "metadata": {},
   "outputs": [],
   "source": [
    "import networkx as nx\n",
    "import pandas as pd\n",
    "edges = pd.DataFrame({\"source\" : ds.df[\"Sending Organization\"],\n",
    "                      \"target\" : ds.df[\"Receiving Organization\"],\n",
    "                      \"weight\" : ds.df[\"Participants\"]\n",
    "                         })\n",
    "UniNodes = nx.from_pandas_edgelist(edges, \"source\", \"target\", \"weight\", nx.DiGraph())"
   ]
  },
  {
   "cell_type": "code",
   "execution_count": 51,
   "metadata": {},
   "outputs": [
    {
     "name": "stdout",
     "output_type": "stream",
     "text": [
      "Sum of the exiting participants:  608\n",
      "Total Neighbors: 1147\n",
      "Out Degree: 587\n",
      "In Degree: 560\n"
     ]
    }
   ],
   "source": [
    "# example of the result with UNIVERSITA DI PADOVA\n",
    "print(\"Sum of the exiting participants: \", sum(e[2]['weight'] for e in UniNodes.out_edges(\"UNIVERSITA DEGLI STUDI DI PADOVA\", data=True)))\n",
    "print(\"Total Neighbors:\",UniNodes.degree((\"UNIVERSITA DEGLI STUDI DI PADOVA\")))\n",
    "print(\"Out Degree:\", UniNodes.out_degree(\"UNIVERSITA DEGLI STUDI DI PADOVA\"))\n",
    "print(\"In Degree:\", UniNodes.in_degree(\"UNIVERSITA DEGLI STUDI DI PADOVA\"))"
   ]
  },
  {
   "attachments": {},
   "cell_type": "markdown",
   "metadata": {},
   "source": [
    "# PageRank\n",
    "implementation from Networkx library"
   ]
  },
  {
   "cell_type": "code",
   "execution_count": 48,
   "metadata": {},
   "outputs": [
    {
     "name": "stdout",
     "output_type": "stream",
     "text": [
      "0.0025460619521710873\n"
     ]
    }
   ],
   "source": [
    "pagerank_scores = nx.pagerank(UniNodes, weight='weight')\n",
    "print(pagerank_scores[\"UNIVERSITA DEGLI STUDI DI PADOVA\"])"
   ]
  },
  {
   "cell_type": "code",
   "execution_count": 63,
   "metadata": {},
   "outputs": [
    {
     "name": "stdout",
     "output_type": "stream",
     "text": [
      "0.025102665628274453\n"
     ]
    }
   ],
   "source": [
    "pagerank_scores = nx.pagerank(CountryGraph, weight='weight')\n",
    "print(pagerank_scores[\"IT\"])"
   ]
  }
 ],
 "metadata": {
  "kernelspec": {
   "display_name": "Python 3",
   "language": "python",
   "name": "python3"
  },
  "language_info": {
   "codemirror_mode": {
    "name": "ipython",
    "version": 3
   },
   "file_extension": ".py",
   "mimetype": "text/x-python",
   "name": "python",
   "nbconvert_exporter": "python",
   "pygments_lexer": "ipython3",
   "version": "3.10.6"
  },
  "orig_nbformat": 4,
  "vscode": {
   "interpreter": {
    "hash": "916dbcbb3f70747c44a77c7bcd40155683ae19c65e1c03b4aa3499c5328201f1"
   }
  }
 },
 "nbformat": 4,
 "nbformat_minor": 2
}
