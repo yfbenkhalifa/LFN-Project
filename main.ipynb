{
 "cells": [
  {
   "cell_type": "code",
   "execution_count": 29,
   "metadata": {},
   "outputs": [
    {
     "name": "stdout",
     "output_type": "stream",
     "text": [
      "The autoreload extension is already loaded. To reload it, use:\n",
      "  %reload_ext autoreload\n"
     ]
    }
   ],
   "source": [
    "import networkx as nx\n",
    "import matplotlib.pyplot as plt\n",
    "import matplotlib.colors as mcolors\n",
    "import numpy as np\n",
    "from dataset import Dataset\n",
    "from utils import Utilities as utils\n",
    "# for Notebook\n",
    "%matplotlib inline\n",
    "%load_ext autoreload\n",
    "%autoreload 2"
   ]
  },
  {
   "cell_type": "markdown",
   "metadata": {},
   "source": [
    "# Dataset Creation\n",
    "Import data into a pandas dataframe using the created class Dataset"
   ]
  },
  {
   "cell_type": "code",
   "execution_count": 30,
   "metadata": {},
   "outputs": [
    {
     "name": "stderr",
     "output_type": "stream",
     "text": [
      "/home/wiz/Git/LFN-Project/dataset.py:34: DtypeWarning: Columns (14) have mixed types. Specify dtype option on import or set low_memory=False.\n",
      "  mob_df = pd.read_csv(mobility_csv, sep=\";\")\n",
      "/home/wiz/Git/LFN-Project/dataset.py:34: DtypeWarning: Columns (14) have mixed types. Specify dtype option on import or set low_memory=False.\n",
      "  mob_df = pd.read_csv(mobility_csv, sep=\";\")\n",
      "/home/wiz/Git/LFN-Project/dataset.py:34: DtypeWarning: Columns (14) have mixed types. Specify dtype option on import or set low_memory=False.\n",
      "  mob_df = pd.read_csv(mobility_csv, sep=\";\")\n",
      "/home/wiz/Git/LFN-Project/dataset.py:34: DtypeWarning: Columns (14) have mixed types. Specify dtype option on import or set low_memory=False.\n",
      "  mob_df = pd.read_csv(mobility_csv, sep=\";\")\n"
     ]
    }
   ],
   "source": [
    "ds = Dataset()\n",
    "files = os.listdir(ds.base_path+\"/data/\")\n",
    "ds.createDataset(files)"
   ]
  },
  {
   "cell_type": "markdown",
   "metadata": {},
   "source": [
    "Now we apply the cleanup pre-processing onto the dataframe, in which we also filter the columns we need"
   ]
  },
  {
   "cell_type": "code",
   "execution_count": 31,
   "metadata": {},
   "outputs": [
    {
     "name": "stdout",
     "output_type": "stream",
     "text": [
      "Removed 13 columns\n",
      "Removed 126 rows\n"
     ]
    }
   ],
   "source": [
    "# Select only needed for the analysis \n",
    "ds.applyPreprocessing(columns=[\"Participants\",\"Mobility Duration\", \"Sending Country Code\", \"Receiving Country Code\",\n",
    "                               \"Special Needs\", \"Fewer Opportunities\", \"Participant Profile\",\n",
    "                               \"Sending Organization\", \"Receiving Organization\", \"Receiving Organisation Erasmus Code\",\n",
    "                               \"GroupLeader\", \"Sending Organisation Erasmus Code\", \"Education Level\"])\n",
    "\n",
    "# Remove all NaN values\n",
    "ds.cleanDataframe()"
   ]
  },
  {
   "attachments": {},
   "cell_type": "markdown",
   "metadata": {},
   "source": [
    "Filter Data (If we want)"
   ]
  },
  {
   "cell_type": "code",
   "execution_count": 32,
   "metadata": {},
   "outputs": [],
   "source": [
    "# # Select only the eramus students researchers from Italy\n",
    "# ds.applyFilter(column=\"Sending Country Code\", value=\"IT\")\n",
    "# # Select only students currently under bachelor degree\n",
    "# ds.applyFilter(column=\"Education Level\", value=\"ISCED-7\", criterion='contains')"
   ]
  },
  {
   "cell_type": "markdown",
   "metadata": {},
   "source": [
    "# Graph creation\n",
    "We can now go ahead and create our graph, again using the Dataset class "
   ]
  },
  {
   "cell_type": "code",
   "execution_count": 33,
   "metadata": {},
   "outputs": [],
   "source": [
    "from graph import CustomGraph as Graph"
   ]
  },
  {
   "attachments": {},
   "cell_type": "markdown",
   "metadata": {},
   "source": [
    "The graph are created started from the edges: the networkX library automatically creates the nodes from the edges."
   ]
  },
  {
   "cell_type": "code",
   "execution_count": 34,
   "metadata": {},
   "outputs": [],
   "source": [
    "import networkx as nx\n",
    "import pandas as pd\n",
    "\n",
    "edges = pd.DataFrame({\"source\" : ds.df[\"Sending Country Code\"],\n",
    "                      \"target\" : ds.df[\"Receiving Country Code\"],\n",
    "                      \"weight\" : ds.df[\"Participants\"]\n",
    "                         })\n",
    "CountryGraph = nx.from_pandas_edgelist(edges, \"source\", \"target\", \"weight\", nx.DiGraph())\n"
   ]
  },
  {
   "cell_type": "code",
   "execution_count": 35,
   "metadata": {},
   "outputs": [],
   "source": [
    "import networkx as nx\n",
    "import pandas as pd\n",
    "edges = pd.DataFrame({\"source\" : ds.df[\"Sending Organization\"],\n",
    "                      \"target\" : ds.df[\"Receiving Organization\"],\n",
    "                      \"weight\" : ds.df[\"Participants\"]\n",
    "                         })\n",
    "UniNodes = nx.from_pandas_edgelist(edges, \"source\", \"target\", \"weight\", nx.DiGraph())"
   ]
  },
  {
   "cell_type": "code",
   "execution_count": 36,
   "metadata": {},
   "outputs": [
    {
     "name": "stdout",
     "output_type": "stream",
     "text": [
      "Sum of the exiting participants:  1419.0\n",
      "Total Neighbors: 2026\n",
      "Out Degree: 1364\n",
      "In Degree: 662\n"
     ]
    }
   ],
   "source": [
    "# example of the result with UNIVERSITA DI PADOVA\n",
    "print(\"Sum of the exiting participants: \", sum(e[2]['weight'] for e in UniNodes.out_edges(\"UNIVERSITA DEGLI STUDI DI PADOVA\", data=True)))\n",
    "print(\"Total Neighbors:\",UniNodes.degree((\"UNIVERSITA DEGLI STUDI DI PADOVA\")))\n",
    "print(\"Out Degree:\", UniNodes.out_degree(\"UNIVERSITA DEGLI STUDI DI PADOVA\"))\n",
    "print(\"In Degree:\", UniNodes.in_degree(\"UNIVERSITA DEGLI STUDI DI PADOVA\"))"
   ]
  },
  {
   "attachments": {},
   "cell_type": "markdown",
   "metadata": {},
   "source": [
    "# PageRank\n",
    "implementation from Networkx library"
   ]
  },
  {
   "cell_type": "code",
   "execution_count": 43,
   "metadata": {},
   "outputs": [
    {
     "name": "stdout",
     "output_type": "stream",
     "text": [
      "mean: 3.1390669437399678e-06\n",
      "std: 5.439738584221366e-06\n"
     ]
    }
   ],
   "source": [
    "ranks = sorted(nx.pagerank(UniNodes, weight='weight').items(), key=lambda x: x[1], reverse=True)\n",
    "UniNodes.pageranks = dict(ranks)\n",
    "\n",
    "# Standardize the results\n",
    "mean = np.mean(list(UniNodes.pageranks.values()))\n",
    "print(f\"mean: {mean}\")\n",
    "std = np.std(list(UniNodes.pageranks.values()))\n",
    "print(f\"std: {std}\")\n",
    "UniNodes.pageranks = {k: (v) / std for k, v in UniNodes.pageranks.items()}"
   ]
  },
  {
   "cell_type": "code",
   "execution_count": 44,
   "metadata": {},
   "outputs": [
    {
     "data": {
      "text/html": [
       "<div>\n",
       "<style scoped>\n",
       "    .dataframe tbody tr th:only-of-type {\n",
       "        vertical-align: middle;\n",
       "    }\n",
       "\n",
       "    .dataframe tbody tr th {\n",
       "        vertical-align: top;\n",
       "    }\n",
       "\n",
       "    .dataframe thead th {\n",
       "        text-align: right;\n",
       "    }\n",
       "</style>\n",
       "<table border=\"1\" class=\"dataframe\">\n",
       "  <thead>\n",
       "    <tr style=\"text-align: right;\">\n",
       "      <th></th>\n",
       "      <th>PageRank</th>\n",
       "    </tr>\n",
       "    <tr>\n",
       "      <th>University</th>\n",
       "      <th></th>\n",
       "    </tr>\n",
       "  </thead>\n",
       "  <tbody>\n",
       "    <tr>\n",
       "      <th>EUROPASS SRL</th>\n",
       "      <td>197.694898</td>\n",
       "    </tr>\n",
       "    <tr>\n",
       "      <th>LFEE EUROPE</th>\n",
       "      <td>172.600642</td>\n",
       "    </tr>\n",
       "    <tr>\n",
       "      <th>ENGLISH MATTERS S.L.</th>\n",
       "      <td>143.544239</td>\n",
       "    </tr>\n",
       "    <tr>\n",
       "      <th>ITC International TEFL Certificate s.r.o.</th>\n",
       "      <td>139.901118</td>\n",
       "    </tr>\n",
       "    <tr>\n",
       "      <th>Executive Training Institute Ltd.</th>\n",
       "      <td>119.104830</td>\n",
       "    </tr>\n",
       "    <tr>\n",
       "      <th>...</th>\n",
       "      <td>...</td>\n",
       "    </tr>\n",
       "    <tr>\n",
       "      <th>TheDojo.Org.UK LTD</th>\n",
       "      <td>0.486382</td>\n",
       "    </tr>\n",
       "    <tr>\n",
       "      <th>INTERCULTURAL EXCHANGE</th>\n",
       "      <td>0.486382</td>\n",
       "    </tr>\n",
       "    <tr>\n",
       "      <th>Roma ACCESS Newcastle upon Tyne Association C.I.C.</th>\n",
       "      <td>0.486382</td>\n",
       "    </tr>\n",
       "    <tr>\n",
       "      <th>Association Scientia Nova Kavadarci</th>\n",
       "      <td>0.486382</td>\n",
       "    </tr>\n",
       "    <tr>\n",
       "      <th>Inspired Youth</th>\n",
       "      <td>0.486382</td>\n",
       "    </tr>\n",
       "  </tbody>\n",
       "</table>\n",
       "<p>318566 rows × 1 columns</p>\n",
       "</div>"
      ],
      "text/plain": [
       "                                                      PageRank\n",
       "University                                                    \n",
       "EUROPASS SRL                                        197.694898\n",
       "LFEE EUROPE                                         172.600642\n",
       "ENGLISH MATTERS S.L.                                143.544239\n",
       "ITC International TEFL Certificate s.r.o.           139.901118\n",
       "Executive Training Institute Ltd.                   119.104830\n",
       "...                                                        ...\n",
       "TheDojo.Org.UK LTD                                    0.486382\n",
       "INTERCULTURAL EXCHANGE                                0.486382\n",
       "Roma ACCESS Newcastle upon Tyne Association C.I.C.    0.486382\n",
       "Association Scientia Nova Kavadarci                   0.486382\n",
       "Inspired Youth                                        0.486382\n",
       "\n",
       "[318566 rows x 1 columns]"
      ]
     },
     "metadata": {},
     "output_type": "display_data"
    }
   ],
   "source": [
    "rank_df = pd.DataFrame(UniNodes.pageranks, index=['PageRank']).T\n",
    "rank_df.index.name = 'University'\n",
    "rank_df.columns = ['PageRank']\n",
    "display(rank_df)"
   ]
  },
  {
   "cell_type": "code",
   "execution_count": 45,
   "metadata": {},
   "outputs": [
    {
     "name": "stdout",
     "output_type": "stream",
     "text": [
      "mean: 0.006024096385542169\n",
      "std: 0.0060459336100556664\n"
     ]
    }
   ],
   "source": [
    "ranks = sorted(nx.pagerank(CountryGraph, weight='weight').items(), key=lambda x: x[1], reverse=True)\n",
    "CountryGraph.pageranks = dict(ranks)\n",
    "\n",
    "# Standardize the results\n",
    "mean = np.mean(list(CountryGraph.pageranks.values()))\n",
    "print(f\"mean: {mean}\")\n",
    "std = np.std(list(CountryGraph.pageranks.values()))\n",
    "print(f\"std: {std}\")\n",
    "CountryGraph.pageranks = {k: (v) / std for k, v in CountryGraph.pageranks.items()}\n"
   ]
  },
  {
   "cell_type": "code",
   "execution_count": 60,
   "metadata": {},
   "outputs": [
    {
     "data": {
      "text/html": [
       "<div>\n",
       "<style scoped>\n",
       "    .dataframe tbody tr th:only-of-type {\n",
       "        vertical-align: middle;\n",
       "    }\n",
       "\n",
       "    .dataframe tbody tr th {\n",
       "        vertical-align: top;\n",
       "    }\n",
       "\n",
       "    .dataframe thead th {\n",
       "        text-align: right;\n",
       "    }\n",
       "</style>\n",
       "<table border=\"1\" class=\"dataframe\">\n",
       "  <thead>\n",
       "    <tr style=\"text-align: right;\">\n",
       "      <th></th>\n",
       "      <th>PageRank</th>\n",
       "    </tr>\n",
       "    <tr>\n",
       "      <th>Country</th>\n",
       "      <th></th>\n",
       "    </tr>\n",
       "  </thead>\n",
       "  <tbody>\n",
       "    <tr>\n",
       "      <th>ES</th>\n",
       "      <td>4.940570</td>\n",
       "    </tr>\n",
       "    <tr>\n",
       "      <th>DE</th>\n",
       "      <td>3.996802</td>\n",
       "    </tr>\n",
       "    <tr>\n",
       "      <th>PL</th>\n",
       "      <td>3.744112</td>\n",
       "    </tr>\n",
       "    <tr>\n",
       "      <th>PT</th>\n",
       "      <td>3.649032</td>\n",
       "    </tr>\n",
       "    <tr>\n",
       "      <th>RO</th>\n",
       "      <td>3.619386</td>\n",
       "    </tr>\n",
       "    <tr>\n",
       "      <th>...</th>\n",
       "      <td>...</td>\n",
       "    </tr>\n",
       "    <tr>\n",
       "      <th>GY</th>\n",
       "      <td>0.153594</td>\n",
       "    </tr>\n",
       "    <tr>\n",
       "      <th>GQ</th>\n",
       "      <td>0.153594</td>\n",
       "    </tr>\n",
       "    <tr>\n",
       "      <th>WS</th>\n",
       "      <td>0.153594</td>\n",
       "    </tr>\n",
       "    <tr>\n",
       "      <th>SL</th>\n",
       "      <td>0.153594</td>\n",
       "    </tr>\n",
       "    <tr>\n",
       "      <th>BI</th>\n",
       "      <td>0.153594</td>\n",
       "    </tr>\n",
       "  </tbody>\n",
       "</table>\n",
       "<p>166 rows × 1 columns</p>\n",
       "</div>"
      ],
      "text/plain": [
       "         PageRank\n",
       "Country          \n",
       "ES       4.940570\n",
       "DE       3.996802\n",
       "PL       3.744112\n",
       "PT       3.649032\n",
       "RO       3.619386\n",
       "...           ...\n",
       "GY       0.153594\n",
       "GQ       0.153594\n",
       "WS       0.153594\n",
       "SL       0.153594\n",
       "BI       0.153594\n",
       "\n",
       "[166 rows x 1 columns]"
      ]
     },
     "metadata": {},
     "output_type": "display_data"
    }
   ],
   "source": [
    "rank_df = pd.DataFrame(CountryGraph.pageranks, index=['Country']).T\n",
    "rank_df.index.name = 'Country'\n",
    "rank_df.columns = ['PageRank']\n",
    "display(rank_df)"
   ]
  },
  {
   "attachments": {},
   "cell_type": "markdown",
   "metadata": {},
   "source": [
    "# Clossness Centrality"
   ]
  },
  {
   "cell_type": "code",
   "execution_count": 62,
   "metadata": {},
   "outputs": [
    {
     "data": {
      "text/html": [
       "<div>\n",
       "<style scoped>\n",
       "    .dataframe tbody tr th:only-of-type {\n",
       "        vertical-align: middle;\n",
       "    }\n",
       "\n",
       "    .dataframe tbody tr th {\n",
       "        vertical-align: top;\n",
       "    }\n",
       "\n",
       "    .dataframe thead th {\n",
       "        text-align: right;\n",
       "    }\n",
       "</style>\n",
       "<table border=\"1\" class=\"dataframe\">\n",
       "  <thead>\n",
       "    <tr style=\"text-align: right;\">\n",
       "      <th></th>\n",
       "      <th>Centrality Score</th>\n",
       "    </tr>\n",
       "    <tr>\n",
       "      <th>Country</th>\n",
       "      <th></th>\n",
       "    </tr>\n",
       "  </thead>\n",
       "  <tbody>\n",
       "    <tr>\n",
       "      <th>ES</th>\n",
       "      <td>4.940570</td>\n",
       "    </tr>\n",
       "    <tr>\n",
       "      <th>DE</th>\n",
       "      <td>3.996802</td>\n",
       "    </tr>\n",
       "    <tr>\n",
       "      <th>PL</th>\n",
       "      <td>3.744112</td>\n",
       "    </tr>\n",
       "    <tr>\n",
       "      <th>PT</th>\n",
       "      <td>3.649032</td>\n",
       "    </tr>\n",
       "    <tr>\n",
       "      <th>RO</th>\n",
       "      <td>3.619386</td>\n",
       "    </tr>\n",
       "    <tr>\n",
       "      <th>...</th>\n",
       "      <td>...</td>\n",
       "    </tr>\n",
       "    <tr>\n",
       "      <th>GY</th>\n",
       "      <td>0.153594</td>\n",
       "    </tr>\n",
       "    <tr>\n",
       "      <th>GQ</th>\n",
       "      <td>0.153594</td>\n",
       "    </tr>\n",
       "    <tr>\n",
       "      <th>WS</th>\n",
       "      <td>0.153594</td>\n",
       "    </tr>\n",
       "    <tr>\n",
       "      <th>SL</th>\n",
       "      <td>0.153594</td>\n",
       "    </tr>\n",
       "    <tr>\n",
       "      <th>BI</th>\n",
       "      <td>0.153594</td>\n",
       "    </tr>\n",
       "  </tbody>\n",
       "</table>\n",
       "<p>166 rows × 1 columns</p>\n",
       "</div>"
      ],
      "text/plain": [
       "         Centrality Score\n",
       "Country                  \n",
       "ES               4.940570\n",
       "DE               3.996802\n",
       "PL               3.744112\n",
       "PT               3.649032\n",
       "RO               3.619386\n",
       "...                   ...\n",
       "GY               0.153594\n",
       "GQ               0.153594\n",
       "WS               0.153594\n",
       "SL               0.153594\n",
       "BI               0.153594\n",
       "\n",
       "[166 rows x 1 columns]"
      ]
     },
     "metadata": {},
     "output_type": "display_data"
    }
   ],
   "source": [
    "_cc = sorted(nx.closeness_centrality(CountryGraph, distance='weight').items(), key=lambda x: x[1], reverse=True)\n",
    "CountryGraph.centrality = dict(_cc)\n",
    "\n",
    "# Standardize the results\n",
    "mean = np.mean(list(CountryGraph.centrality.values()))\n",
    "std = np.std(list(CountryGraph.centrality.values()))\n",
    "CountryGraph.centrality = {k: (v) / std for k, v in CountryGraph.centrality.items()}\n",
    "\n",
    "# Visualize data\n",
    "rank_df = pd.DataFrame(CountryGraph.pageranks, index=['Country']).T\n",
    "rank_df.index.name = 'Country'\n",
    "rank_df.columns = ['Centrality Score']\n",
    "display(rank_df)"
   ]
  }
 ],
 "metadata": {
  "kernelspec": {
   "display_name": "Python 3",
   "language": "python",
   "name": "python3"
  },
  "language_info": {
   "codemirror_mode": {
    "name": "ipython",
    "version": 3
   },
   "file_extension": ".py",
   "mimetype": "text/x-python",
   "name": "python",
   "nbconvert_exporter": "python",
   "pygments_lexer": "ipython3",
   "version": "3.10.6"
  },
  "orig_nbformat": 4,
  "vscode": {
   "interpreter": {
    "hash": "916dbcbb3f70747c44a77c7bcd40155683ae19c65e1c03b4aa3499c5328201f1"
   }
  }
 },
 "nbformat": 4,
 "nbformat_minor": 2
}
