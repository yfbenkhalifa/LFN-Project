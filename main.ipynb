{
 "cells": [
  {
   "cell_type": "code",
   "execution_count": 1,
   "metadata": {},
   "outputs": [],
   "source": [
    "import networkx as nx\n",
    "import matplotlib.pyplot as plt\n",
    "import matplotlib.colors as mcolors\n",
    "from dataset import Dataset\n",
    "from utils import Utilities as utils\n",
    "# for Notebook\n",
    "%matplotlib inline\n",
    "%load_ext autoreload\n",
    "%autoreload 2"
   ]
  },
  {
   "cell_type": "markdown",
   "metadata": {},
   "source": [
    "# Dataset Creation\n",
    "Import data into a pandas dataframe using the created class Dataset"
   ]
  },
  {
   "cell_type": "code",
   "execution_count": 2,
   "metadata": {},
   "outputs": [
    {
     "name": "stderr",
     "output_type": "stream",
     "text": [
      "/home/wiz/Git/LFN-Project/dataset.py:34: DtypeWarning: Columns (14) have mixed types. Specify dtype option on import or set low_memory=False.\n",
      "  mob_df = pd.read_csv(mobility_csv, sep=\";\")\n",
      "/home/wiz/Git/LFN-Project/dataset.py:34: DtypeWarning: Columns (14) have mixed types. Specify dtype option on import or set low_memory=False.\n",
      "  mob_df = pd.read_csv(mobility_csv, sep=\";\")\n",
      "/home/wiz/Git/LFN-Project/dataset.py:34: DtypeWarning: Columns (14) have mixed types. Specify dtype option on import or set low_memory=False.\n",
      "  mob_df = pd.read_csv(mobility_csv, sep=\";\")\n",
      "/home/wiz/Git/LFN-Project/dataset.py:34: DtypeWarning: Columns (14) have mixed types. Specify dtype option on import or set low_memory=False.\n",
      "  mob_df = pd.read_csv(mobility_csv, sep=\";\")\n"
     ]
    }
   ],
   "source": [
    "ds = Dataset()\n",
    "files = os.listdir(ds.base_path+\"/data/\")\n",
    "ds.createDataset(files)"
   ]
  },
  {
   "cell_type": "markdown",
   "metadata": {},
   "source": [
    "Now we apply the cleanup pre-processing onto the dataframe, in which we also filter the columns we need"
   ]
  },
  {
   "cell_type": "code",
   "execution_count": 3,
   "metadata": {},
   "outputs": [
    {
     "name": "stdout",
     "output_type": "stream",
     "text": [
      "Removed 11 columns\n",
      "Removed 126 rows\n"
     ]
    }
   ],
   "source": [
    "# Select only needed for the analysis \n",
    "ds.applyPreprocessing(columns=[\"Participants\",\"Mobility Duration\", \"Sending Country Code\", \"Receiving Country Code\",\n",
    "                               \"Special Needs\", \"Fewer Opportunities\", \"Participant Profile\",\n",
    "                               \"Sending Organization\", \"Receiving Organization\", \"Receiving Organisation Erasmus Code\",\n",
    "                               \"GroupLeader\", \"Sending Organisation Erasmus Code\", \"Education Level\"])\n",
    "\n",
    "# Remove all NaN values\n",
    "ds.cleanDataframe()"
   ]
  },
  {
   "attachments": {},
   "cell_type": "markdown",
   "metadata": {},
   "source": [
    "Filter Data"
   ]
  },
  {
   "cell_type": "code",
   "execution_count": 4,
   "metadata": {},
   "outputs": [],
   "source": [
    "# # Select only the eramus students researchers from Italy\n",
    "# ds.applyFilter(column=\"Sending Country Code\", value=\"IT\")\n",
    "# # Select only students currently under bachelor degree\n",
    "# ds.applyFilter(column=\"Education Level\", value=\"ISCED-7\", criterion='contains')"
   ]
  },
  {
   "cell_type": "markdown",
   "metadata": {},
   "source": [
    "The resulting dataframe becomes "
   ]
  },
  {
   "cell_type": "code",
   "execution_count": 21,
   "metadata": {},
   "outputs": [
    {
     "data": {
      "text/html": [
       "<div>\n",
       "<style scoped>\n",
       "    .dataframe tbody tr th:only-of-type {\n",
       "        vertical-align: middle;\n",
       "    }\n",
       "\n",
       "    .dataframe tbody tr th {\n",
       "        vertical-align: top;\n",
       "    }\n",
       "\n",
       "    .dataframe thead th {\n",
       "        text-align: right;\n",
       "    }\n",
       "</style>\n",
       "<table border=\"1\" class=\"dataframe\">\n",
       "  <thead>\n",
       "    <tr style=\"text-align: right;\">\n",
       "      <th></th>\n",
       "      <th>Mobility Duration</th>\n",
       "      <th>Education Level</th>\n",
       "      <th>Participant Profile</th>\n",
       "      <th>Special Needs</th>\n",
       "      <th>Fewer Opportunities</th>\n",
       "      <th>GroupLeader</th>\n",
       "      <th>Sending Country Code</th>\n",
       "      <th>Sending Organization</th>\n",
       "      <th>Sending Organisation Erasmus Code</th>\n",
       "      <th>Receiving Country Code</th>\n",
       "      <th>Receiving Organization</th>\n",
       "      <th>Receiving Organisation Erasmus Code</th>\n",
       "      <th>Participants</th>\n",
       "    </tr>\n",
       "  </thead>\n",
       "  <tbody>\n",
       "    <tr>\n",
       "      <th>23723</th>\n",
       "      <td>NaN</td>\n",
       "      <td>NaN</td>\n",
       "      <td>NaN</td>\n",
       "      <td>NaN</td>\n",
       "      <td>NaN</td>\n",
       "      <td>NaN</td>\n",
       "      <td>NaN</td>\n",
       "      <td>NaN</td>\n",
       "      <td>NaN</td>\n",
       "      <td>NaN</td>\n",
       "      <td>NaN</td>\n",
       "      <td>NaN</td>\n",
       "      <td>NaN</td>\n",
       "    </tr>\n",
       "    <tr>\n",
       "      <th>23725</th>\n",
       "      <td>NaN</td>\n",
       "      <td>NaN</td>\n",
       "      <td>NaN</td>\n",
       "      <td>NaN</td>\n",
       "      <td>NaN</td>\n",
       "      <td>NaN</td>\n",
       "      <td>NaN</td>\n",
       "      <td>NaN</td>\n",
       "      <td>NaN</td>\n",
       "      <td>NaN</td>\n",
       "      <td>NaN</td>\n",
       "      <td>NaN</td>\n",
       "      <td>NaN</td>\n",
       "    </tr>\n",
       "    <tr>\n",
       "      <th>23726</th>\n",
       "      <td>NaN</td>\n",
       "      <td>NaN</td>\n",
       "      <td>NaN</td>\n",
       "      <td>NaN</td>\n",
       "      <td>NaN</td>\n",
       "      <td>NaN</td>\n",
       "      <td>NaN</td>\n",
       "      <td>NaN</td>\n",
       "      <td>NaN</td>\n",
       "      <td>NaN</td>\n",
       "      <td>NaN</td>\n",
       "      <td>NaN</td>\n",
       "      <td>NaN</td>\n",
       "    </tr>\n",
       "    <tr>\n",
       "      <th>23727</th>\n",
       "      <td>NaN</td>\n",
       "      <td>NaN</td>\n",
       "      <td>NaN</td>\n",
       "      <td>NaN</td>\n",
       "      <td>NaN</td>\n",
       "      <td>NaN</td>\n",
       "      <td>NaN</td>\n",
       "      <td>NaN</td>\n",
       "      <td>NaN</td>\n",
       "      <td>NaN</td>\n",
       "      <td>NaN</td>\n",
       "      <td>NaN</td>\n",
       "      <td>NaN</td>\n",
       "    </tr>\n",
       "    <tr>\n",
       "      <th>23728</th>\n",
       "      <td>NaN</td>\n",
       "      <td>NaN</td>\n",
       "      <td>NaN</td>\n",
       "      <td>NaN</td>\n",
       "      <td>NaN</td>\n",
       "      <td>NaN</td>\n",
       "      <td>NaN</td>\n",
       "      <td>NaN</td>\n",
       "      <td>NaN</td>\n",
       "      <td>NaN</td>\n",
       "      <td>NaN</td>\n",
       "      <td>NaN</td>\n",
       "      <td>NaN</td>\n",
       "    </tr>\n",
       "    <tr>\n",
       "      <th>...</th>\n",
       "      <td>...</td>\n",
       "      <td>...</td>\n",
       "      <td>...</td>\n",
       "      <td>...</td>\n",
       "      <td>...</td>\n",
       "      <td>...</td>\n",
       "      <td>...</td>\n",
       "      <td>...</td>\n",
       "      <td>...</td>\n",
       "      <td>...</td>\n",
       "      <td>...</td>\n",
       "      <td>...</td>\n",
       "      <td>...</td>\n",
       "    </tr>\n",
       "    <tr>\n",
       "      <th>639955</th>\n",
       "      <td>NaN</td>\n",
       "      <td>NaN</td>\n",
       "      <td>NaN</td>\n",
       "      <td>NaN</td>\n",
       "      <td>NaN</td>\n",
       "      <td>NaN</td>\n",
       "      <td>NaN</td>\n",
       "      <td>NaN</td>\n",
       "      <td>NaN</td>\n",
       "      <td>NaN</td>\n",
       "      <td>NaN</td>\n",
       "      <td>NaN</td>\n",
       "      <td>NaN</td>\n",
       "    </tr>\n",
       "    <tr>\n",
       "      <th>639956</th>\n",
       "      <td>NaN</td>\n",
       "      <td>NaN</td>\n",
       "      <td>NaN</td>\n",
       "      <td>NaN</td>\n",
       "      <td>NaN</td>\n",
       "      <td>NaN</td>\n",
       "      <td>NaN</td>\n",
       "      <td>NaN</td>\n",
       "      <td>NaN</td>\n",
       "      <td>NaN</td>\n",
       "      <td>NaN</td>\n",
       "      <td>NaN</td>\n",
       "      <td>NaN</td>\n",
       "    </tr>\n",
       "    <tr>\n",
       "      <th>639957</th>\n",
       "      <td>NaN</td>\n",
       "      <td>NaN</td>\n",
       "      <td>NaN</td>\n",
       "      <td>NaN</td>\n",
       "      <td>NaN</td>\n",
       "      <td>NaN</td>\n",
       "      <td>NaN</td>\n",
       "      <td>NaN</td>\n",
       "      <td>NaN</td>\n",
       "      <td>NaN</td>\n",
       "      <td>NaN</td>\n",
       "      <td>NaN</td>\n",
       "      <td>NaN</td>\n",
       "    </tr>\n",
       "    <tr>\n",
       "      <th>683475</th>\n",
       "      <td>NaN</td>\n",
       "      <td>NaN</td>\n",
       "      <td>NaN</td>\n",
       "      <td>NaN</td>\n",
       "      <td>NaN</td>\n",
       "      <td>NaN</td>\n",
       "      <td>NaN</td>\n",
       "      <td>NaN</td>\n",
       "      <td>NaN</td>\n",
       "      <td>NaN</td>\n",
       "      <td>NaN</td>\n",
       "      <td>NaN</td>\n",
       "      <td>NaN</td>\n",
       "    </tr>\n",
       "    <tr>\n",
       "      <th>683476</th>\n",
       "      <td>NaN</td>\n",
       "      <td>NaN</td>\n",
       "      <td>NaN</td>\n",
       "      <td>NaN</td>\n",
       "      <td>NaN</td>\n",
       "      <td>NaN</td>\n",
       "      <td>NaN</td>\n",
       "      <td>NaN</td>\n",
       "      <td>NaN</td>\n",
       "      <td>NaN</td>\n",
       "      <td>NaN</td>\n",
       "      <td>NaN</td>\n",
       "      <td>NaN</td>\n",
       "    </tr>\n",
       "  </tbody>\n",
       "</table>\n",
       "<p>88752 rows × 13 columns</p>\n",
       "</div>"
      ],
      "text/plain": [
       "        Mobility Duration Education Level Participant Profile Special Needs  \\\n",
       "23723                 NaN             NaN                 NaN           NaN   \n",
       "23725                 NaN             NaN                 NaN           NaN   \n",
       "23726                 NaN             NaN                 NaN           NaN   \n",
       "23727                 NaN             NaN                 NaN           NaN   \n",
       "23728                 NaN             NaN                 NaN           NaN   \n",
       "...                   ...             ...                 ...           ...   \n",
       "639955                NaN             NaN                 NaN           NaN   \n",
       "639956                NaN             NaN                 NaN           NaN   \n",
       "639957                NaN             NaN                 NaN           NaN   \n",
       "683475                NaN             NaN                 NaN           NaN   \n",
       "683476                NaN             NaN                 NaN           NaN   \n",
       "\n",
       "       Fewer Opportunities GroupLeader Sending Country Code  \\\n",
       "23723                  NaN         NaN                  NaN   \n",
       "23725                  NaN         NaN                  NaN   \n",
       "23726                  NaN         NaN                  NaN   \n",
       "23727                  NaN         NaN                  NaN   \n",
       "23728                  NaN         NaN                  NaN   \n",
       "...                    ...         ...                  ...   \n",
       "639955                 NaN         NaN                  NaN   \n",
       "639956                 NaN         NaN                  NaN   \n",
       "639957                 NaN         NaN                  NaN   \n",
       "683475                 NaN         NaN                  NaN   \n",
       "683476                 NaN         NaN                  NaN   \n",
       "\n",
       "       Sending Organization Sending Organisation Erasmus Code  \\\n",
       "23723                   NaN                               NaN   \n",
       "23725                   NaN                               NaN   \n",
       "23726                   NaN                               NaN   \n",
       "23727                   NaN                               NaN   \n",
       "23728                   NaN                               NaN   \n",
       "...                     ...                               ...   \n",
       "639955                  NaN                               NaN   \n",
       "639956                  NaN                               NaN   \n",
       "639957                  NaN                               NaN   \n",
       "683475                  NaN                               NaN   \n",
       "683476                  NaN                               NaN   \n",
       "\n",
       "       Receiving Country Code Receiving Organization  \\\n",
       "23723                     NaN                    NaN   \n",
       "23725                     NaN                    NaN   \n",
       "23726                     NaN                    NaN   \n",
       "23727                     NaN                    NaN   \n",
       "23728                     NaN                    NaN   \n",
       "...                       ...                    ...   \n",
       "639955                    NaN                    NaN   \n",
       "639956                    NaN                    NaN   \n",
       "639957                    NaN                    NaN   \n",
       "683475                    NaN                    NaN   \n",
       "683476                    NaN                    NaN   \n",
       "\n",
       "       Receiving Organisation Erasmus Code  Participants  \n",
       "23723                                  NaN           NaN  \n",
       "23725                                  NaN           NaN  \n",
       "23726                                  NaN           NaN  \n",
       "23727                                  NaN           NaN  \n",
       "23728                                  NaN           NaN  \n",
       "...                                    ...           ...  \n",
       "639955                                 NaN           NaN  \n",
       "639956                                 NaN           NaN  \n",
       "639957                                 NaN           NaN  \n",
       "683475                                 NaN           NaN  \n",
       "683476                                 NaN           NaN  \n",
       "\n",
       "[88752 rows x 13 columns]"
      ]
     },
     "execution_count": 21,
     "metadata": {},
     "output_type": "execute_result"
    }
   ],
   "source": [
    "ds.df.where(ds.df['Receiving Country Code'] == 'IT')"
   ]
  },
  {
   "cell_type": "markdown",
   "metadata": {},
   "source": [
    "# Graph creation\n",
    "We can now go ahead and create our graph, again using the Dataset class "
   ]
  },
  {
   "cell_type": "code",
   "execution_count": 6,
   "metadata": {},
   "outputs": [],
   "source": [
    "from graph import CustomGraph as Graph"
   ]
  },
  {
   "attachments": {},
   "cell_type": "markdown",
   "metadata": {},
   "source": [
    "The graph are created started from the edges: the networkX library automatically creates the nodes from the edges."
   ]
  },
  {
   "cell_type": "code",
   "execution_count": 7,
   "metadata": {},
   "outputs": [],
   "source": [
    "import networkx as nx\n",
    "import pandas as pd\n",
    "\n",
    "edges = pd.DataFrame({\"source\" : ds.df[\"Sending Country Code\"],\n",
    "                      \"target\" : ds.df[\"Receiving Country Code\"],\n",
    "                      \"weight\" : ds.df[\"Participants\"]\n",
    "                         })\n",
    "CountryGraph = nx.from_pandas_edgelist(edges, \"source\", \"target\", \"weight\", nx.DiGraph())\n"
   ]
  },
  {
   "cell_type": "code",
   "execution_count": 10,
   "metadata": {},
   "outputs": [
    {
     "data": {
      "text/plain": [
       "94"
      ]
     },
     "metadata": {},
     "output_type": "display_data"
    },
    {
     "data": {
      "text/plain": [
       "OutEdgeView([('IT', 'BE'), ('IT', 'PT'), ('IT', 'FR'), ('IT', 'IE'), ('IT', 'SE'), ('IT', 'UK'), ('IT', 'AT'), ('IT', 'DE'), ('IT', 'ES'), ('IT', 'BG'), ('IT', 'HR'), ('IT', 'MT'), ('IT', 'EL'), ('IT', 'CZ'), ('IT', 'NO'), ('IT', 'NL'), ('IT', 'PL'), ('IT', 'LT'), ('IT', 'RO'), ('IT', 'IL'), ('IT', 'AM'), ('IT', 'AZ'), ('IT', 'UA'), ('IT', 'GE'), ('IT', 'ME'), ('IT', 'RS'), ('IT', 'PS'), ('IT', 'AL'), ('IT', 'RU'), ('IT', 'CA'), ('IT', 'TW'), ('IT', 'MA'), ('IT', 'BA'), ('IT', 'TN'), ('IT', 'XK'), ('IT', 'CN'), ('IT', 'AU'), ('IT', 'KH'), ('IT', 'UZ'), ('IT', 'LA'), ('IT', 'MN'), ('IT', 'ZA'), ('IT', 'IN'), ('IT', 'JO'), ('IT', 'EG'), ('IT', 'US'), ('IT', 'BR'), ('IT', 'PH'), ('IT', 'NZ'), ('IT', 'JP'), ('IT', 'EE'), ('IT', 'CY'), ('IT', 'SI'), ('IT', 'DK'), ('IT', 'FI'), ('IT', 'TR'), ('IT', 'HU'), ('IT', 'LV'), ('IT', 'SK'), ('IT', 'IS'), ('IT', 'LU'), ('IT', 'MK'), ('IT', 'LI'), ('IT', 'VN'), ('IT', 'CL'), ('IT', 'DZ'), ('IT', 'AR'), ('IT', 'ET'), ('IT', 'NP'), ('IT', 'UG'), ('IT', 'BY'), ('IT', 'SG'), ('IT', 'LB'), ('IT', 'KG'), ('IT', 'KE'), ('IT', 'SN'), ('IT', 'SV'), ('IT', 'MO'), ('IT', 'MY'), ('IT', 'MD'), ('IT', 'KR'), ('IT', 'MZ'), ('IT', 'MM'), ('IT', 'SO'), ('IT', 'TH'), ('IT', 'CU'), ('IT', 'KZ'), ('IT', 'MG'), ('IT', 'BO'), ('IT', 'CO'), ('IT', 'GT'), ('IT', 'HK'), ('IT', 'IR')])"
      ]
     },
     "metadata": {},
     "output_type": "display_data"
    }
   ],
   "source": [
    "display(len(CountryGraph.nodes))\n",
    "display(CountryGraph.edges)"
   ]
  },
  {
   "cell_type": "code",
   "execution_count": 9,
   "metadata": {},
   "outputs": [
    {
     "data": {
      "text/plain": [
       "{('IT', 'BE'): Text(-0.3601911561909205, -0.3556982730494589, \"{'weight': 1}\"),\n",
       " ('IT', 'PT'): Text(0.32399909577894426, 0.31537438025156195, \"{'weight': 1}\"),\n",
       " ('IT',\n",
       "  'FR'): Text(0.4568972640880925, -0.017265634109438224, \"{'weight': 1}\"),\n",
       " ('IT', 'IE'): Text(-0.3753477866033118, -0.2875374310159853, \"{'weight': 1}\"),\n",
       " ('IT', 'SE'): Text(-0.4528361227919707, 0.1583258053462422, \"{'weight': 1}\"),\n",
       " ('IT',\n",
       "  'UK'): Text(-0.4527249263810705, -0.10328004909381072, \"{'weight': 1}\"),\n",
       " ('IT', 'AT'): Text(-0.42730459005958404, -0.254869611038694, \"{'weight': 1}\"),\n",
       " ('IT', 'DE'): Text(-0.321157343225183, -0.39764975113115403, \"{'weight': 1}\"),\n",
       " ('IT', 'ES'): Text(0.3320611002330697, -0.38237774586190737, \"{'weight': 1}\")}"
      ]
     },
     "execution_count": 9,
     "metadata": {},
     "output_type": "execute_result"
    },
    {
     "data": {
      "image/png": "[encoded data removed]",
      "text/plain": [
       "<Figure size 640x480 with 1 Axes>"
      ]
     },
     "metadata": {},
     "output_type": "display_data"
    }
   ],
   "source": [
    "# Code to visualize ten nodes of the graph with their edges\n",
    "nodes = list(CountryGraph.nodes())\n",
    "first_10_nodes = nodes[:10]\n",
    "G = nx.subgraph(CountryGraph, first_10_nodes)\n",
    "nx.draw_networkx_edges(G,pos=nx.spring_layout(CountryGraph))\n",
    "nx.draw_networkx_edge_labels(G,pos=nx.spring_layout(CountryGraph))"
   ]
  },
  {
   "cell_type": "code",
   "execution_count": 12,
   "metadata": {},
   "outputs": [],
   "source": [
    "import networkx as nx\n",
    "import pandas as pd\n",
    "edges = pd.DataFrame({\"source\" : ds.df[\"Sending Organization\"],\n",
    "                      \"target\" : ds.df[\"Receiving Organization\"],\n",
    "                      \"weight\" : ds.df[\"Participants\"]\n",
    "                         })\n",
    "UniNodes = nx.from_pandas_edgelist(edges, \"source\", \"target\", \"weight\", nx.DiGraph())"
   ]
  },
  {
   "cell_type": "code",
   "execution_count": 13,
   "metadata": {},
   "outputs": [
    {
     "name": "stdout",
     "output_type": "stream",
     "text": [
      "Sum of the exiting participants:  1132\n",
      "Total Neighbors: 1093\n",
      "Out Degree: 1093\n",
      "In Degree: 0\n"
     ]
    }
   ],
   "source": [
    "# example of the result with UNIVERSITA DI PADOVA\n",
    "print(\"Sum of the exiting participants: \", sum(e[2]['weight'] for e in UniNodes.out_edges(\"UNIVERSITA DEGLI STUDI DI PADOVA\", data=True)))\n",
    "print(\"Total Neighbors:\",UniNodes.degree((\"UNIVERSITA DEGLI STUDI DI PADOVA\")))\n",
    "print(\"Out Degree:\", UniNodes.out_degree(\"UNIVERSITA DEGLI STUDI DI PADOVA\"))\n",
    "print(\"In Degree:\", UniNodes.in_degree(\"UNIVERSITA DEGLI STUDI DI PADOVA\"))"
   ]
  },
  {
   "attachments": {},
   "cell_type": "markdown",
   "metadata": {},
   "source": [
    "# PageRank\n",
    "implementation from Networkx library"
   ]
  },
  {
   "cell_type": "code",
   "execution_count": 14,
   "metadata": {},
   "outputs": [],
   "source": [
    "ranks = sorted(nx.pagerank(UniNodes, weight='weight').items(), key=lambda x: x[1], reverse=True)\n",
    "UniNodes.pageranks = dict(ranks)"
   ]
  },
  {
   "cell_type": "code",
   "execution_count": 15,
   "metadata": {},
   "outputs": [
    {
     "data": {
      "text/html": [
       "<div>\n",
       "<style scoped>\n",
       "    .dataframe tbody tr th:only-of-type {\n",
       "        vertical-align: middle;\n",
       "    }\n",
       "\n",
       "    .dataframe tbody tr th {\n",
       "        vertical-align: top;\n",
       "    }\n",
       "\n",
       "    .dataframe thead th {\n",
       "        text-align: right;\n",
       "    }\n",
       "</style>\n",
       "<table border=\"1\" class=\"dataframe\">\n",
       "  <thead>\n",
       "    <tr style=\"text-align: right;\">\n",
       "      <th></th>\n",
       "      <th>PageRank</th>\n",
       "    </tr>\n",
       "    <tr>\n",
       "      <th>University</th>\n",
       "      <th></th>\n",
       "    </tr>\n",
       "  </thead>\n",
       "  <tbody>\n",
       "    <tr>\n",
       "      <th>ASOCIACIÓN CULTURAL INTEGRA</th>\n",
       "      <td>0.000560</td>\n",
       "    </tr>\n",
       "    <tr>\n",
       "      <th>LONDON PLACEMENT ACADEMY LIMITED</th>\n",
       "      <td>0.000532</td>\n",
       "    </tr>\n",
       "    <tr>\n",
       "      <th>Cap Ulysse</th>\n",
       "      <td>0.000505</td>\n",
       "    </tr>\n",
       "    <tr>\n",
       "      <th>Training Vision Ltd</th>\n",
       "      <td>0.000370</td>\n",
       "    </tr>\n",
       "    <tr>\n",
       "      <th>EUROYOUTH Portugal</th>\n",
       "      <td>0.000326</td>\n",
       "    </tr>\n",
       "    <tr>\n",
       "      <th>...</th>\n",
       "      <td>...</td>\n",
       "    </tr>\n",
       "    <tr>\n",
       "      <th>Beatrice Kruger</th>\n",
       "      <td>0.000065</td>\n",
       "    </tr>\n",
       "    <tr>\n",
       "      <th>JFB DESIGN MANAGEMENT</th>\n",
       "      <td>0.000065</td>\n",
       "    </tr>\n",
       "    <tr>\n",
       "      <th>MATTEO OLIVIERI</th>\n",
       "      <td>0.000065</td>\n",
       "    </tr>\n",
       "    <tr>\n",
       "      <th>CONSERVATORIO DI MUSICA DI STATO ALESSANDRO SCARLATTI - PALERMO</th>\n",
       "      <td>0.000065</td>\n",
       "    </tr>\n",
       "    <tr>\n",
       "      <th>UNIVERSITA TELEMATICA SAN RAFFAELE</th>\n",
       "      <td>0.000065</td>\n",
       "    </tr>\n",
       "  </tbody>\n",
       "</table>\n",
       "<p>14956 rows × 1 columns</p>\n",
       "</div>"
      ],
      "text/plain": [
       "                                                    PageRank\n",
       "University                                                  \n",
       "ASOCIACIÓN CULTURAL INTEGRA                         0.000560\n",
       "LONDON PLACEMENT ACADEMY LIMITED                    0.000532\n",
       "Cap Ulysse                                          0.000505\n",
       "Training Vision Ltd                                 0.000370\n",
       "EUROYOUTH Portugal                                  0.000326\n",
       "...                                                      ...\n",
       "Beatrice Kruger                                     0.000065\n",
       "JFB DESIGN MANAGEMENT                               0.000065\n",
       "MATTEO OLIVIERI                                     0.000065\n",
       "CONSERVATORIO DI MUSICA DI STATO ALESSANDRO SCA...  0.000065\n",
       "UNIVERSITA TELEMATICA SAN RAFFAELE                  0.000065\n",
       "\n",
       "[14956 rows x 1 columns]"
      ]
     },
     "metadata": {},
     "output_type": "display_data"
    }
   ],
   "source": [
    "rank_df = pd.DataFrame(UniNodes.pageranks, index=['PageRank']).T\n",
    "rank_df.index.name = 'University'\n",
    "rank_df.columns = ['PageRank']\n",
    "display(rank_df)"
   ]
  },
  {
   "cell_type": "code",
   "execution_count": 16,
   "metadata": {},
   "outputs": [
    {
     "name": "stdout",
     "output_type": "stream",
     "text": [
      "0.010542970367837547\n"
     ]
    }
   ],
   "source": [
    "ranks = sorted(nx.pagerank(CountryGraph, weight='weight').items(), key=lambda x: x[1], reverse=True)\n",
    "CountryGraph.pageranks = dict(ranks)\n",
    "print(CountryGraph.pageranks[\"IT\"])"
   ]
  },
  {
   "cell_type": "code",
   "execution_count": 17,
   "metadata": {},
   "outputs": [
    {
     "data": {
      "text/html": [
       "<div>\n",
       "<style scoped>\n",
       "    .dataframe tbody tr th:only-of-type {\n",
       "        vertical-align: middle;\n",
       "    }\n",
       "\n",
       "    .dataframe tbody tr th {\n",
       "        vertical-align: top;\n",
       "    }\n",
       "\n",
       "    .dataframe thead th {\n",
       "        text-align: right;\n",
       "    }\n",
       "</style>\n",
       "<table border=\"1\" class=\"dataframe\">\n",
       "  <thead>\n",
       "    <tr style=\"text-align: right;\">\n",
       "      <th></th>\n",
       "      <th>PageRank</th>\n",
       "    </tr>\n",
       "    <tr>\n",
       "      <th>Country</th>\n",
       "      <th></th>\n",
       "    </tr>\n",
       "  </thead>\n",
       "  <tbody>\n",
       "    <tr>\n",
       "      <th>HK</th>\n",
       "      <td>0.010826</td>\n",
       "    </tr>\n",
       "    <tr>\n",
       "      <th>BE</th>\n",
       "      <td>0.010637</td>\n",
       "    </tr>\n",
       "    <tr>\n",
       "      <th>PT</th>\n",
       "      <td>0.010637</td>\n",
       "    </tr>\n",
       "    <tr>\n",
       "      <th>FR</th>\n",
       "      <td>0.010637</td>\n",
       "    </tr>\n",
       "    <tr>\n",
       "      <th>IE</th>\n",
       "      <td>0.010637</td>\n",
       "    </tr>\n",
       "    <tr>\n",
       "      <th>...</th>\n",
       "      <td>...</td>\n",
       "    </tr>\n",
       "    <tr>\n",
       "      <th>BO</th>\n",
       "      <td>0.010637</td>\n",
       "    </tr>\n",
       "    <tr>\n",
       "      <th>CO</th>\n",
       "      <td>0.010637</td>\n",
       "    </tr>\n",
       "    <tr>\n",
       "      <th>GT</th>\n",
       "      <td>0.010637</td>\n",
       "    </tr>\n",
       "    <tr>\n",
       "      <th>IR</th>\n",
       "      <td>0.010637</td>\n",
       "    </tr>\n",
       "    <tr>\n",
       "      <th>IT</th>\n",
       "      <td>0.010543</td>\n",
       "    </tr>\n",
       "  </tbody>\n",
       "</table>\n",
       "<p>94 rows × 1 columns</p>\n",
       "</div>"
      ],
      "text/plain": [
       "         PageRank\n",
       "Country          \n",
       "HK       0.010826\n",
       "BE       0.010637\n",
       "PT       0.010637\n",
       "FR       0.010637\n",
       "IE       0.010637\n",
       "...           ...\n",
       "BO       0.010637\n",
       "CO       0.010637\n",
       "GT       0.010637\n",
       "IR       0.010637\n",
       "IT       0.010543\n",
       "\n",
       "[94 rows x 1 columns]"
      ]
     },
     "metadata": {},
     "output_type": "display_data"
    }
   ],
   "source": [
    "rank_df = pd.DataFrame(CountryGraph.pageranks, index=['PageRank']).T\n",
    "rank_df.index.name = 'Country'\n",
    "rank_df.columns = ['PageRank']\n",
    "display(rank_df)"
   ]
  },
  {
   "attachments": {},
   "cell_type": "markdown",
   "metadata": {},
   "source": [
    "# Clossness Centrality"
   ]
  },
  {
   "cell_type": "code",
   "execution_count": 18,
   "metadata": {},
   "outputs": [
    {
     "data": {
      "text/plain": [
       "{'IT': 0.0,\n",
       " 'BE': 0.010752688172043012,\n",
       " 'PT': 0.010752688172043012,\n",
       " 'FR': 0.010752688172043012,\n",
       " 'IE': 0.010752688172043012,\n",
       " 'SE': 0.010752688172043012,\n",
       " 'UK': 0.010752688172043012,\n",
       " 'AT': 0.010752688172043012,\n",
       " 'DE': 0.010752688172043012,\n",
       " 'ES': 0.010752688172043012,\n",
       " 'BG': 0.010752688172043012,\n",
       " 'HR': 0.010752688172043012,\n",
       " 'MT': 0.010752688172043012,\n",
       " 'EL': 0.010752688172043012,\n",
       " 'CZ': 0.010752688172043012,\n",
       " 'NO': 0.010752688172043012,\n",
       " 'NL': 0.010752688172043012,\n",
       " 'PL': 0.010752688172043012,\n",
       " 'LT': 0.010752688172043012,\n",
       " 'RO': 0.010752688172043012,\n",
       " 'IL': 0.010752688172043012,\n",
       " 'AM': 0.010752688172043012,\n",
       " 'AZ': 0.010752688172043012,\n",
       " 'UA': 0.010752688172043012,\n",
       " 'GE': 0.010752688172043012,\n",
       " 'ME': 0.010752688172043012,\n",
       " 'RS': 0.010752688172043012,\n",
       " 'PS': 0.010752688172043012,\n",
       " 'AL': 0.010752688172043012,\n",
       " 'RU': 0.010752688172043012,\n",
       " 'CA': 0.010752688172043012,\n",
       " 'TW': 0.010752688172043012,\n",
       " 'MA': 0.010752688172043012,\n",
       " 'BA': 0.010752688172043012,\n",
       " 'TN': 0.010752688172043012,\n",
       " 'XK': 0.010752688172043012,\n",
       " 'CN': 0.010752688172043012,\n",
       " 'AU': 0.010752688172043012,\n",
       " 'KH': 0.010752688172043012,\n",
       " 'UZ': 0.010752688172043012,\n",
       " 'LA': 0.010752688172043012,\n",
       " 'MN': 0.010752688172043012,\n",
       " 'ZA': 0.010752688172043012,\n",
       " 'IN': 0.010752688172043012,\n",
       " 'JO': 0.010752688172043012,\n",
       " 'EG': 0.010752688172043012,\n",
       " 'US': 0.010752688172043012,\n",
       " 'BR': 0.010752688172043012,\n",
       " 'PH': 0.010752688172043012,\n",
       " 'NZ': 0.010752688172043012,\n",
       " 'JP': 0.010752688172043012,\n",
       " 'EE': 0.010752688172043012,\n",
       " 'CY': 0.010752688172043012,\n",
       " 'SI': 0.010752688172043012,\n",
       " 'DK': 0.010752688172043012,\n",
       " 'FI': 0.010752688172043012,\n",
       " 'TR': 0.010752688172043012,\n",
       " 'HU': 0.010752688172043012,\n",
       " 'LV': 0.010752688172043012,\n",
       " 'SK': 0.010752688172043012,\n",
       " 'IS': 0.010752688172043012,\n",
       " 'LU': 0.010752688172043012,\n",
       " 'MK': 0.010752688172043012,\n",
       " 'LI': 0.010752688172043012,\n",
       " 'VN': 0.010752688172043012,\n",
       " 'CL': 0.010752688172043012,\n",
       " 'DZ': 0.010752688172043012,\n",
       " 'AR': 0.010752688172043012,\n",
       " 'ET': 0.010752688172043012,\n",
       " 'NP': 0.010752688172043012,\n",
       " 'UG': 0.010752688172043012,\n",
       " 'BY': 0.010752688172043012,\n",
       " 'SG': 0.010752688172043012,\n",
       " 'LB': 0.010752688172043012,\n",
       " 'KG': 0.010752688172043012,\n",
       " 'KE': 0.010752688172043012,\n",
       " 'SN': 0.010752688172043012,\n",
       " 'SV': 0.010752688172043012,\n",
       " 'MO': 0.010752688172043012,\n",
       " 'MY': 0.010752688172043012,\n",
       " 'MD': 0.010752688172043012,\n",
       " 'KR': 0.010752688172043012,\n",
       " 'MZ': 0.010752688172043012,\n",
       " 'MM': 0.010752688172043012,\n",
       " 'SO': 0.010752688172043012,\n",
       " 'TH': 0.010752688172043012,\n",
       " 'CU': 0.010752688172043012,\n",
       " 'KZ': 0.010752688172043012,\n",
       " 'MG': 0.010752688172043012,\n",
       " 'BO': 0.010752688172043012,\n",
       " 'CO': 0.010752688172043012,\n",
       " 'GT': 0.010752688172043012,\n",
       " 'HK': 0.0035842293906810036,\n",
       " 'IR': 0.010752688172043012}"
      ]
     },
     "metadata": {},
     "output_type": "display_data"
    }
   ],
   "source": [
    "_cc = nx.closeness_centrality(CountryGraph, distance='weight')\n",
    "CountryGraph.centrality = dict(_cc)\n",
    "display(CountryGraph.centrality)\n"
   ]
  }
 ],
 "metadata": {
  "kernelspec": {
   "display_name": "Python 3",
   "language": "python",
   "name": "python3"
  },
  "language_info": {
   "codemirror_mode": {
    "name": "ipython",
    "version": 3
   },
   "file_extension": ".py",
   "mimetype": "text/x-python",
   "name": "python",
   "nbconvert_exporter": "python",
   "pygments_lexer": "ipython3",
   "version": "3.10.6"
  },
  "orig_nbformat": 4,
  "vscode": {
   "interpreter": {
    "hash": "916dbcbb3f70747c44a77c7bcd40155683ae19c65e1c03b4aa3499c5328201f1"
   }
  }
 },
 "nbformat": 4,
 "nbformat_minor": 2
}
